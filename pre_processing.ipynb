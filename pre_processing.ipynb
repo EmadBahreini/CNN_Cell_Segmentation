{
 "cells": [
  {
   "cell_type": "markdown",
   "metadata": {},
   "source": [
    "## Preprocessing on images\n",
    "\n",
    "In this file, we are going to perform preprocessing on images.\n",
    "\n",
    "The preprocessing steps include:\n",
    "\n",
    "5. **Normalization**: Scaling pixel values to a standard range, typically 0-1.\n",
    "\n",
    "These steps will prepare our images to be used as ground truth images, which serve as a reference or basis for comparison in various image processing tasks.\n",
    "\n",
    "\n"
   ]
  },
  {
   "cell_type": "code",
   "execution_count": 2,
   "metadata": {},
   "outputs": [],
   "source": [
    "from skimage import morphology\n",
    "import skimage.io as sio\n",
    "import cv2\n",
    "import numpy as np\n",
    "import matplotlib.pyplot as plt\n",
    "import os\n",
    "import pandas as pd"
   ]
  },
  {
   "cell_type": "markdown",
   "metadata": {},
   "source": [
    "The following code is used to read the image and convert it to a binary image. The binary image is then used to create a mask for the original image. The mask is then used to extract the region of interest (ROI) from the original image.\n",
    "\n",
    "In this way we will use this image as our `ground truth`\n",
    "\n"
   ]
  },
  {
   "cell_type": "markdown",
   "metadata": {},
   "source": [
    "The following Function get a directory and return a tuple containing two lists:\n",
    "<br>\n",
    "<br>\n",
    "  `([image file paths], [label file paths])`\n"
   ]
  },
  {
   "cell_type": "code",
   "execution_count": 12,
   "metadata": {},
   "outputs": [],
   "source": [
    "def get_file_lists(basedir)->tuple:\n",
    "    \"\"\"\n",
    "    Get the list of image and label file paths from the specified directory.\n",
    "\n",
    "    Args:\n",
    "        basedir (str): The base directory containing the image and label files.\n",
    "\n",
    "    Returns:\n",
    "        tuple: A tuple containing two lists - the image file paths and the label file paths.\n",
    "\n",
    "    \"\"\"\n",
    "    imdirs = sorted([os.path.join(basedir, p) for p in os.listdir(basedir)\n",
    "                     if p.find('_') == -1\n",
    "                     and os.path.isdir(os.path.join(basedir, p))])\n",
    "    stdirs = [f'{p}_ST' for p in imdirs]\n",
    "\n",
    "    labpaths = sorted([os.path.join(gtdir, 'SEG', p)\n",
    "                      for gtdir in stdirs\n",
    "                      for p in os.listdir(os.path.join(gtdir, 'SEG'))])\n",
    "\n",
    "    impaths = sorted([os.path.join(imdir, p)\n",
    "                      for imdir in imdirs\n",
    "                      for p in os.listdir(os.path.join(imdir))])\n",
    "\n",
    "    return impaths, labpaths\n"
   ]
  },
  {
   "cell_type": "code",
   "execution_count": null,
   "metadata": {},
   "outputs": [],
   "source": [
    "def read_image(image_path:str)->np.ndarray:\n",
    "    image = cv2.imread(image_path, cv2.IMREAD_GRAYSCALE)\n",
    "    image = cv2.normalize(image, None, 0, 255, cv2.NORM_MINMAX)\n",
    "    return image\n",
    "\n",
    "def read_label(label_path:str, use_morphology:bool=False)->np.ndarray:\n",
    "    \"\"\"\n",
    "    Read and process label image.\n",
    "\n",
    "    Parameters:\n",
    "    label_path (str): The path to the label image file.\n",
    "    use_morphology (bool, optional): Whether to apply morphology operations on the label image. \n",
    "                                     Defaults to False.\n",
    "\n",
    "    Returns:\n",
    "    numpy.ndarray: The processed label image.\n",
    "\n",
    "    \"\"\"\n",
    "    label = sio.imread(label_path)\n",
    "    if use_morphology:\n",
    "        markers = np.zeros_like(label)\n",
    "        for i in range(1, label.max() + 1):\n",
    "            mask = label == i\n",
    "            dilated_mask = morphology.binary_dilation(mask, np.ones((3, 3)))\n",
    "            border_mask = dilated_mask & ~mask\n",
    "            markers[border_mask] = 1\n",
    "    else:\n",
    "        label = np.where(label > 0, 1, 0).astype(np.float32)\n",
    "    \n",
    "    return markers.astype('float32') if use_morphology else label\n",
    "    \n",
    "def overlay_mask(image:np.ndarray, mask:np.ndarray)->np.ndarray:\n",
    "    \"\"\"\n",
    "    Overlay a binary mask on top of an image.\n",
    "\n",
    "    Parameters:\n",
    "    image (numpy.ndarray): The input image.\n",
    "    mask (numpy.ndarray): The binary mask to overlay.\n",
    "\n",
    "    Returns:\n",
    "    numpy.ndarray: The resulting image with the mask overlayed.\n",
    "\n",
    "    \"\"\"\n",
    "    color_image = cv2.cvtColor(image, cv2.COLOR_GRAY2BGR)\n",
    "    color_image[mask != 1] = [0, 0, 0]  \n",
    "    return color_image\n"
   ]
  },
  {
   "cell_type": "markdown",
   "metadata": {},
   "source": [
    "Finally creating a folder called `MASK` based on being train or test. \n",
    "<br>\n",
    "- train : `01_MASK`\n",
    "- test : `02_MASK`\n",
    "\n",
    "<span style=\"color:green;\">data_dir</span>  is set to `'Data/train'`,\n",
    "but you can also uncomment the second line and set it to `'Data/test'`\n",
    "if you want to use the test data instead."
   ]
  },
  {
   "cell_type": "code",
   "execution_count": 10,
   "metadata": {},
   "outputs": [],
   "source": [
    "data_dir = 'Data/train'\n",
    "# data_dir = 'Data/test'"
   ]
  },
  {
   "cell_type": "code",
   "execution_count": 14,
   "metadata": {},
   "outputs": [],
   "source": [
    "subname = '/01' if data_dir =='Data/train' else'/02'\n",
    "impaths, labpaths = get_file_lists(data_dir)"
   ]
  },
  {
   "cell_type": "code",
   "execution_count": null,
   "metadata": {},
   "outputs": [],
   "source": [
    "output_folder = f'{data_dir}{subname}_MASKS'\n",
    "output_folder = f'{data_dir}{subname}_MASKS'\n",
    "os.makedirs(output_folder, exist_ok=True)\n",
    "\n",
    "for idx, (image_path, label_path) in enumerate(zip(impaths, labpaths)):\n",
    "    image = read_image(image_path)\n",
    "    label = read_label(label_path)\n",
    "    masked_image = overlay_mask(image, label)\n",
    "    # marker_image = overlay_mask(image, label)\n",
    "    plt.imshow(masked_image)\n",
    "    # Save the highlighted image\n",
    "    output_filename = f'mask_{idx:03d}.tif'\n",
    "    output_path = os.path.join(output_folder, output_filename)\n",
    "    cv2.imwrite(output_path, label)\n",
    "    # plt.show()\n"
   ]
  }
 ],
 "metadata": {
  "kernelspec": {
   "display_name": "deepLearning",
   "language": "python",
   "name": "python3"
  },
  "language_info": {
   "codemirror_mode": {
    "name": "ipython",
    "version": 3
   },
   "file_extension": ".py",
   "mimetype": "text/x-python",
   "name": "python",
   "nbconvert_exporter": "python",
   "pygments_lexer": "ipython3",
   "version": "3.11.7"
  }
 },
 "nbformat": 4,
 "nbformat_minor": 2
}
