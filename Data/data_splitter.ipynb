{
 "cells": [
  {
   "cell_type": "code",
   "execution_count": 1,
   "metadata": {},
   "outputs": [],
   "source": [
    "import shutil\n",
    "import os"
   ]
  },
  {
   "cell_type": "markdown",
   "metadata": {},
   "source": [
    "## Datasets names\n",
    "you can add the name of your dataset folder (which has the following format) into the list to use its name for splitting data \n",
    "### For example:\n",
    "The hierarchy of Dataset folder with name `PhC-C2DH-U373` is as follow: \n",
    "\n",
    "```PhC-C2DH-U373``` <br/>\n",
    "```|- 01``` <br/>\n",
    "```|- 01_GT``` <br/>\n",
    "```...|- SEG``` <br/>\n",
    "```...|- TRA``` <br/>\n",
    "```|- 01_ST``` <br/>\n",
    "```...|- SEG``` <br/>\n",
    "```|- 02``` <br/>\n",
    "```|- 02_GT``` <br/>\n",
    "```...|- SEG``` <br/>\n",
    "```...|- TRA``` <br/>\n",
    "```|- 02_ST``` <br/>\n",
    "```...|- SEG``` <br/>"
   ]
  },
  {
   "cell_type": "code",
   "execution_count": 2,
   "metadata": {},
   "outputs": [],
   "source": [
    "datasets = ['DIC-C2DH-HeLa']"
   ]
  },
  {
   "cell_type": "markdown",
   "metadata": {},
   "source": [
    "## Splitting Datasets \n",
    "the following codes split data into `train` and `test` folders"
   ]
  },
  {
   "cell_type": "code",
   "execution_count": 3,
   "metadata": {},
   "outputs": [],
   "source": [
    "\n",
    "def copy_subfolders(relative_source_dir, relative_dest_dir, subfolders):\n",
    "    \"\"\"\n",
    "    Copies specified subfolders from a source directory to a destination directory within the project.\n",
    "\n",
    "    :param relative_source_dir: Relative path to the source directory containing the subfolders.\n",
    "    :param relative_dest_dir: Relative path to the destination directory where subfolders will be copied.\n",
    "    :param subfolders: A list of subfolder names to be copied.\n",
    "    \"\"\"\n",
    "    source_dir = os.path.abspath(relative_source_dir)\n",
    "    dest_dir = os.path.abspath(relative_dest_dir)\n",
    "\n",
    "    for subfolder in subfolders:\n",
    "        src_path = os.path.join(source_dir, subfolder)\n",
    "        dest_path = os.path.join(dest_dir, subfolder)\n",
    "        \n",
    "        if os.path.exists(src_path) and os.path.isdir(src_path):\n",
    "            shutil.copytree(src_path, dest_path)\n",
    "            print(f\"Copied {src_path} to {dest_path}\")\n",
    "        else:\n",
    "            print(f\"Source subfolder {src_path} does not exist\")\n"
   ]
  },
  {
   "cell_type": "markdown",
   "metadata": {},
   "source": [
    "Specify which dataset you are going to split, by its index in the `datasets` list"
   ]
  },
  {
   "cell_type": "code",
   "execution_count": 4,
   "metadata": {},
   "outputs": [],
   "source": [
    "source_directory = datasets[0]"
   ]
  },
  {
   "cell_type": "code",
   "execution_count": 5,
   "metadata": {},
   "outputs": [
    {
     "name": "stdout",
     "output_type": "stream",
     "text": [
      "Copied f:\\university\\milan\\second semester\\deep life\\main proj\\CNN_Cell_Segmentation\\Data\\DIC-C2DH-HeLa\\01 to f:\\university\\milan\\second semester\\deep life\\main proj\\CNN_Cell_Segmentation\\Data\\train\\01\n",
      "Copied f:\\university\\milan\\second semester\\deep life\\main proj\\CNN_Cell_Segmentation\\Data\\DIC-C2DH-HeLa\\01_ST to f:\\university\\milan\\second semester\\deep life\\main proj\\CNN_Cell_Segmentation\\Data\\train\\01_ST\n",
      "Copied f:\\university\\milan\\second semester\\deep life\\main proj\\CNN_Cell_Segmentation\\Data\\DIC-C2DH-HeLa\\02 to f:\\university\\milan\\second semester\\deep life\\main proj\\CNN_Cell_Segmentation\\Data\\test\\02\n",
      "Copied f:\\university\\milan\\second semester\\deep life\\main proj\\CNN_Cell_Segmentation\\Data\\DIC-C2DH-HeLa\\02_ST to f:\\university\\milan\\second semester\\deep life\\main proj\\CNN_Cell_Segmentation\\Data\\test\\02_ST\n"
     ]
    }
   ],
   "source": [
    "train_directory = \"train\"\n",
    "test_directory = \"test\"\n",
    "train_subfolders = [\"01\", \"01_ST\"]\n",
    "test_subfolders = [\"02\", \"02_ST\"]\n",
    "\n",
    "copy_subfolders(source_directory, train_directory, train_subfolders)\n",
    "copy_subfolders(source_directory, test_directory, test_subfolders)\n",
    "\n"
   ]
  },
  {
   "cell_type": "code",
   "execution_count": null,
   "metadata": {},
   "outputs": [],
   "source": []
  }
 ],
 "metadata": {
  "kernelspec": {
   "display_name": "deepLearning",
   "language": "python",
   "name": "python3"
  },
  "language_info": {
   "codemirror_mode": {
    "name": "ipython",
    "version": 3
   },
   "file_extension": ".py",
   "mimetype": "text/x-python",
   "name": "python",
   "nbconvert_exporter": "python",
   "pygments_lexer": "ipython3",
   "version": "3.11.7"
  }
 },
 "nbformat": 4,
 "nbformat_minor": 2
}
